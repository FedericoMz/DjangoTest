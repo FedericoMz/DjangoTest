{
 "cells": [
  {
   "cell_type": "code",
   "execution_count": 1,
   "id": "7760d929",
   "metadata": {},
   "outputs": [],
   "source": [
    "import requests\n",
    "\n",
    "BASE_URL = 'http://127.0.0.1:8000/'"
   ]
  },
  {
   "cell_type": "markdown",
   "id": "9a5fef89",
   "metadata": {},
   "source": [
    "# Restaurants"
   ]
  },
  {
   "cell_type": "markdown",
   "id": "0804ddc9",
   "metadata": {},
   "source": [
    "First of all, we create a new restaurant, by \"wrapping\" our Django API inside a Python function."
   ]
  },
  {
   "cell_type": "code",
   "execution_count": 2,
   "id": "fe571e7d",
   "metadata": {},
   "outputs": [],
   "source": [
    "def create_restaurant(name):\n",
    "    url = BASE_URL + \"restaurants/\"\n",
    "    data = {\"name\": name}\n",
    "    response = requests.post(url, data=data)\n",
    "    return response.json()"
   ]
  },
  {
   "cell_type": "code",
   "execution_count": 3,
   "id": "f2417386",
   "metadata": {},
   "outputs": [],
   "source": [
    "new_restaurant = create_restaurant(\"ToXAmato\")\n",
    "restaurant_id = new_restaurant['id']"
   ]
  },
  {
   "cell_type": "code",
   "execution_count": 4,
   "id": "0a6dfb8c",
   "metadata": {},
   "outputs": [
    {
     "data": {
      "text/plain": [
       "'ef98a8a6-6a13-47bf-8c10-f04298873250'"
      ]
     },
     "execution_count": 4,
     "metadata": {},
     "output_type": "execute_result"
    }
   ],
   "source": [
    "restaurant_id"
   ]
  },
  {
   "cell_type": "markdown",
   "id": "c3a06962",
   "metadata": {},
   "source": [
    "It is possible to have multiple restaurants with the same name; the unique uuid identifier will be different."
   ]
  },
  {
   "cell_type": "code",
   "execution_count": 5,
   "id": "68c5da88",
   "metadata": {},
   "outputs": [],
   "source": [
    "new_restaurant_2 = create_restaurant(\"ToXAmato\")\n",
    "restaurant_id_2 = new_restaurant_2['id']"
   ]
  },
  {
   "cell_type": "code",
   "execution_count": 6,
   "id": "a9c688fc",
   "metadata": {},
   "outputs": [
    {
     "data": {
      "text/plain": [
       "'17d2b8a7-3403-4226-be42-6b2ef8395997'"
      ]
     },
     "execution_count": 6,
     "metadata": {},
     "output_type": "execute_result"
    }
   ],
   "source": [
    "restaurant_id_2"
   ]
  },
  {
   "cell_type": "code",
   "execution_count": 7,
   "id": "f1c0f281",
   "metadata": {},
   "outputs": [
    {
     "data": {
      "text/plain": [
       "{'id': '17d2b8a7-3403-4226-be42-6b2ef8395997', 'name': 'ToXAmato'}"
      ]
     },
     "execution_count": 7,
     "metadata": {},
     "output_type": "execute_result"
    }
   ],
   "source": [
    "new_restaurant_2"
   ]
  },
  {
   "cell_type": "markdown",
   "id": "180df260",
   "metadata": {},
   "source": [
    "We can also checks how many restaurants we have"
   ]
  },
  {
   "cell_type": "code",
   "execution_count": 9,
   "id": "4012a117",
   "metadata": {},
   "outputs": [
    {
     "data": {
      "text/plain": [
       "[{'id': 'ef98a8a6-6a13-47bf-8c10-f04298873250', 'name': 'ToXAmato'},\n",
       " {'id': '17d2b8a7-3403-4226-be42-6b2ef8395997', 'name': 'ToXAmato'}]"
      ]
     },
     "execution_count": 9,
     "metadata": {},
     "output_type": "execute_result"
    }
   ],
   "source": [
    "restaurants = requests.get(BASE_URL + 'restaurants/')\n",
    "restaurants.json()"
   ]
  },
  {
   "cell_type": "markdown",
   "id": "3a5cb9da",
   "metadata": {},
   "source": [
    "The names can be modified"
   ]
  },
  {
   "cell_type": "code",
   "execution_count": 10,
   "id": "ef9ec00f",
   "metadata": {},
   "outputs": [],
   "source": [
    "def modify_restaurant(restaurant_id, new_name):\n",
    "    url = BASE_URL + f\"restaurants/{restaurant_id}/\"\n",
    "    data = {\"name\": new_name}\n",
    "    response = requests.put(url, data=data)\n",
    "    return response.json()"
   ]
  },
  {
   "cell_type": "code",
   "execution_count": 11,
   "id": "09a45f50",
   "metadata": {},
   "outputs": [
    {
     "data": {
      "text/plain": [
       "{'id': 'ef98a8a6-6a13-47bf-8c10-f04298873250', 'name': 'Tomato'}"
      ]
     },
     "execution_count": 11,
     "metadata": {},
     "output_type": "execute_result"
    }
   ],
   "source": [
    "new_restaurant = modify_restaurant(restaurant_id, \"Tomato\")\n",
    "new_restaurant"
   ]
  },
  {
   "cell_type": "code",
   "execution_count": 12,
   "id": "57112cb3",
   "metadata": {},
   "outputs": [
    {
     "data": {
      "text/plain": [
       "'ef98a8a6-6a13-47bf-8c10-f04298873250'"
      ]
     },
     "execution_count": 12,
     "metadata": {},
     "output_type": "execute_result"
    }
   ],
   "source": [
    "restaurant_id"
   ]
  },
  {
   "cell_type": "markdown",
   "id": "e426e03e",
   "metadata": {},
   "source": [
    "Finally, restaurants can be deleted. We'll keep _Tomato's_, and remove _ToXAmato's_. The API returns _204_, as the operation was successfully completed."
   ]
  },
  {
   "cell_type": "code",
   "execution_count": 13,
   "id": "b502aa0e",
   "metadata": {},
   "outputs": [],
   "source": [
    "def delete_restaurant(restaurant_id):\n",
    "    url = BASE_URL + f\"restaurants/{restaurant_id}/\"\n",
    "    response = requests.delete(url)\n",
    "    return response.status_code"
   ]
  },
  {
   "cell_type": "code",
   "execution_count": 14,
   "id": "0a937566",
   "metadata": {},
   "outputs": [
    {
     "data": {
      "text/plain": [
       "204"
      ]
     },
     "execution_count": 14,
     "metadata": {},
     "output_type": "execute_result"
    }
   ],
   "source": [
    "delete_restaurant(restaurant_id_2)\n"
   ]
  },
  {
   "cell_type": "markdown",
   "id": "af00da23",
   "metadata": {},
   "source": [
    "Before exploring recipes and ingredients, let's create some other restaurants. For practical reasons, we'll store their ids on a dictionary"
   ]
  },
  {
   "cell_type": "code",
   "execution_count": 15,
   "id": "28e62557",
   "metadata": {},
   "outputs": [
    {
     "data": {
      "text/plain": [
       "[{'id': 'ef98a8a6-6a13-47bf-8c10-f04298873250', 'name': 'Tomato'},\n",
       " {'id': '45d3ae47-9445-45b2-9838-330dcc568422', 'name': 'Cheesy'},\n",
       " {'id': '2a087183-2e7e-4a9d-a982-21d837d01793', 'name': 'SushiKing'},\n",
       " {'id': '705046ab-df7c-4845-8017-24953bf51c68', 'name': 'PizzaPazza'}]"
      ]
     },
     "execution_count": 15,
     "metadata": {},
     "output_type": "execute_result"
    }
   ],
   "source": [
    "create_restaurant(\"Cheesy\")\n",
    "create_restaurant(\"SushiKing\")\n",
    "create_restaurant(\"PizzaPazza\")\n",
    "\n",
    "restaurants = requests.get(BASE_URL + 'restaurants/')\n",
    "restaurants.json()"
   ]
  },
  {
   "cell_type": "code",
   "execution_count": 16,
   "id": "589e27b7",
   "metadata": {},
   "outputs": [
    {
     "data": {
      "text/plain": [
       "{'Tomato': 'ef98a8a6-6a13-47bf-8c10-f04298873250',\n",
       " 'Cheesy': '45d3ae47-9445-45b2-9838-330dcc568422',\n",
       " 'SushiKing': '2a087183-2e7e-4a9d-a982-21d837d01793',\n",
       " 'PizzaPazza': '705046ab-df7c-4845-8017-24953bf51c68'}"
      ]
     },
     "execution_count": 16,
     "metadata": {},
     "output_type": "execute_result"
    }
   ],
   "source": [
    "restaurant_ids = {e['name']: e['id'] for e in restaurants.json()}\n",
    "restaurant_ids"
   ]
  },
  {
   "cell_type": "markdown",
   "id": "6181fca5",
   "metadata": {},
   "source": [
    "# Recipes"
   ]
  },
  {
   "cell_type": "markdown",
   "id": "f4a2c107",
   "metadata": {},
   "source": [
    "A _recipe_ can be created following a similar rationale.  Each recipe is associated to a restaurant -- and we need to provide the restaurant's unique identifier. Multiple recipes with the same name can co-exist, even inside the same restaurant."
   ]
  },
  {
   "cell_type": "code",
   "execution_count": 17,
   "id": "dbe24588",
   "metadata": {},
   "outputs": [
    {
     "data": {
      "text/plain": [
       "{'id': '184866b8-2eb8-421b-9b09-1233f8a4c0f9',\n",
       " 'name': 'Pizza Margherita',\n",
       " 'restaurant': 'ef98a8a6-6a13-47bf-8c10-f04298873250'}"
      ]
     },
     "execution_count": 17,
     "metadata": {},
     "output_type": "execute_result"
    }
   ],
   "source": [
    "def create_recipe(restaurant_id, recipe_name):\n",
    "    url = BASE_URL + \"/api/recipes/\"\n",
    "    data = {\"name\": recipe_name, \"restaurant\": restaurant_id}\n",
    "    response = requests.post(url, data=data)\n",
    "    return response.json()\n",
    "\n",
    "new_recipe = create_recipe(restaurant_ids['Tomato'], \"Pizza Margherita\")\n",
    "new_recipe"
   ]
  },
  {
   "cell_type": "code",
   "execution_count": 18,
   "id": "e1b6627c",
   "metadata": {},
   "outputs": [
    {
     "data": {
      "text/plain": [
       "{'Pizza Margherita': '184866b8-2eb8-421b-9b09-1233f8a4c0f9',\n",
       " 'Quattro Formaggi': 'deb5f0fa-fbdd-415a-9af0-bdd4eba37bc0',\n",
       " 'Pizza Marinara': '36e8100a-b77c-47ec-9f71-c0601abeaceb',\n",
       " 'The Exclusive': '0e8d97ba-a7e3-4450-a784-7e6b4599e921',\n",
       " 'Sushi': 'e0bc2526-1677-4866-ade9-73a84cbcff09',\n",
       " 'Dorayaki': 'f74558ee-eed7-462c-a07a-858410bf74c0',\n",
       " 'Amatriciana': 'd8436372-88e0-4dd9-aca0-40b30fa46e0e'}"
      ]
     },
     "execution_count": 18,
     "metadata": {},
     "output_type": "execute_result"
    }
   ],
   "source": [
    "create_recipe(restaurant_ids['PizzaPazza'], \"Quattro Formaggi\")\n",
    "create_recipe(restaurant_ids['PizzaPazza'], \"Pizza Marinara\")\n",
    "create_recipe(restaurant_ids['Cheesy'], \"The Exclusive\")\n",
    "create_recipe(restaurant_ids['SushiKing'], \"Sushi\")\n",
    "create_recipe(restaurant_ids['SushiKing'], \"Dorayaki\")\n",
    "create_recipe(restaurant_ids['Tomato'], \"Amatriciana\")\n",
    "\n",
    "\n",
    "recipes = requests.get(BASE_URL + 'recipes/') #Created recipes, as before we then store then in a dict\n",
    "\n",
    "recipe_ids = {e['name']: e['id'] for e in recipes.json()}\n",
    "recipe_ids"
   ]
  },
  {
   "cell_type": "markdown",
   "id": "0e7ae8f4",
   "metadata": {},
   "source": [
    "What if our friends at Cheesy's decide to sell the rights of their \"The Exclusive\" pizza to PizzaPazza? We can modify the name of each recipe, as well as the linked restaurant."
   ]
  },
  {
   "cell_type": "code",
   "execution_count": 19,
   "id": "1dc599eb",
   "metadata": {},
   "outputs": [
    {
     "data": {
      "text/plain": [
       "{'id': '0e8d97ba-a7e3-4450-a784-7e6b4599e921',\n",
       " 'name': 'Exclusive (Now With A New Owner!)',\n",
       " 'restaurant': '705046ab-df7c-4845-8017-24953bf51c68'}"
      ]
     },
     "execution_count": 19,
     "metadata": {},
     "output_type": "execute_result"
    }
   ],
   "source": [
    "def modify_recipe(recipe_id, new_name, new_restaurant):\n",
    "    url = BASE_URL + f\"api/recipes/{recipe_id}/\"\n",
    "    data = {\"name\": new_name, 'restaurant': new_restaurant}\n",
    "    response = requests.put(url, data=data)\n",
    "    return response.json()\n",
    "\n",
    "modified_recipe = modify_recipe(recipe_ids['The Exclusive'], new_name=\"Exclusive (Now With A New Owner!)\",\n",
    "                               new_restaurant=restaurant_ids['PizzaPazza'])\n",
    "\n",
    "modified_recipe"
   ]
  },
  {
   "cell_type": "markdown",
   "id": "fd1fc9e3",
   "metadata": {},
   "source": [
    "Finally, recipes can be deleted too."
   ]
  },
  {
   "cell_type": "code",
   "execution_count": 20,
   "id": "b8ebd993",
   "metadata": {},
   "outputs": [
    {
     "data": {
      "text/plain": [
       "204"
      ]
     },
     "execution_count": 20,
     "metadata": {},
     "output_type": "execute_result"
    }
   ],
   "source": [
    "def delete_recipe(recipe_id):\n",
    "    url = BASE_URL + f\"api/recipes/{recipe_id}/\"\n",
    "    response = requests.delete(url)\n",
    "    return response.status_code\n",
    "\n",
    "delete_recipe(recipe_ids['Sushi'])\n"
   ]
  },
  {
   "cell_type": "markdown",
   "id": "be3fb62b",
   "metadata": {},
   "source": [
    "As you can see below, deleting \"SushiKing\" also remove the \"Dorayaki\" recipes (since we are checking again all the recipes, we take to opportunity to update our dict as well)"
   ]
  },
  {
   "cell_type": "code",
   "execution_count": 21,
   "id": "830fd68c",
   "metadata": {},
   "outputs": [
    {
     "data": {
      "text/plain": [
       "[{'id': '184866b8-2eb8-421b-9b09-1233f8a4c0f9',\n",
       "  'name': 'Pizza Margherita',\n",
       "  'restaurant': 'ef98a8a6-6a13-47bf-8c10-f04298873250'},\n",
       " {'id': 'deb5f0fa-fbdd-415a-9af0-bdd4eba37bc0',\n",
       "  'name': 'Quattro Formaggi',\n",
       "  'restaurant': '705046ab-df7c-4845-8017-24953bf51c68'},\n",
       " {'id': '36e8100a-b77c-47ec-9f71-c0601abeaceb',\n",
       "  'name': 'Pizza Marinara',\n",
       "  'restaurant': '705046ab-df7c-4845-8017-24953bf51c68'},\n",
       " {'id': 'd8436372-88e0-4dd9-aca0-40b30fa46e0e',\n",
       "  'name': 'Amatriciana',\n",
       "  'restaurant': 'ef98a8a6-6a13-47bf-8c10-f04298873250'},\n",
       " {'id': '0e8d97ba-a7e3-4450-a784-7e6b4599e921',\n",
       "  'name': 'Exclusive (Now With A New Owner!)',\n",
       "  'restaurant': '705046ab-df7c-4845-8017-24953bf51c68'}]"
      ]
     },
     "execution_count": 21,
     "metadata": {},
     "output_type": "execute_result"
    }
   ],
   "source": [
    "delete_restaurant(restaurant_ids['SushiKing']) \n",
    "\n",
    "recipes = requests.get(BASE_URL + 'recipes/') #Created recipes, as before we then store then in a dict\n",
    "recipe_ids = {e['name']: e['id'] for e in recipes.json()}\n",
    "recipes.json()\n"
   ]
  },
  {
   "cell_type": "markdown",
   "id": "0ad1993d",
   "metadata": {},
   "source": [
    "# Ingredients"
   ]
  },
  {
   "cell_type": "markdown",
   "id": "d9d066d7",
   "metadata": {},
   "source": [
    "Finally, the ingredients. Ingredients can be linked to multiple recipes, and can exist even if their associated recipes are removed (they cannot, however, be created _without_ an initial linked recipe). "
   ]
  },
  {
   "cell_type": "code",
   "execution_count": 22,
   "id": "6940be48",
   "metadata": {},
   "outputs": [],
   "source": [
    "def create_ingredient(recipe_id, ingredient_name):\n",
    "    url = BASE_URL + \"api/ingredients/\"\n",
    "    data = {\"name\": ingredient_name, \"recipes\": [recipe_id]}\n",
    "    response = requests.post(url, data=data)\n",
    "    return response.json()\n",
    "\n",
    "gorgonzola = create_ingredient(recipe_ids['Quattro Formaggi'], \"Gorgonzola\")\n",
    "gorgonzola_id = gorgonzola['id']\n"
   ]
  },
  {
   "cell_type": "markdown",
   "id": "71f3dd00",
   "metadata": {},
   "source": [
    "Note that a new ingredient can be associated to multiple recipes"
   ]
  },
  {
   "cell_type": "code",
   "execution_count": 23,
   "id": "be999bea",
   "metadata": {},
   "outputs": [
    {
     "data": {
      "text/plain": [
       "{'id': 'd5b16057-f82d-48b5-ad1a-e848c138ca76',\n",
       " 'name': 'Pomodoro',\n",
       " 'recipes': ['184866b8-2eb8-421b-9b09-1233f8a4c0f9',\n",
       "  '36e8100a-b77c-47ec-9f71-c0601abeaceb',\n",
       "  'd8436372-88e0-4dd9-aca0-40b30fa46e0e']}"
      ]
     },
     "execution_count": 23,
     "metadata": {},
     "output_type": "execute_result"
    }
   ],
   "source": [
    "new_ingredient = create_ingredient([recipe_ids['Pizza Margherita'], recipe_ids['Amatriciana'], \n",
    "                                    recipe_ids['Pizza Marinara']], \"Pomodoro\")\n",
    "new_ingredient"
   ]
  },
  {
   "cell_type": "markdown",
   "id": "d31a5ec8",
   "metadata": {},
   "source": [
    "We cannot have ingredients with the same name"
   ]
  },
  {
   "cell_type": "code",
   "execution_count": 24,
   "id": "5d3dfc24",
   "metadata": {},
   "outputs": [
    {
     "data": {
      "text/plain": [
       "{'name': ['ingredient with this Name already exists.']}"
      ]
     },
     "execution_count": 24,
     "metadata": {},
     "output_type": "execute_result"
    }
   ],
   "source": [
    "new_ingredient = create_ingredient(recipe_ids['Pizza Margherita'], \n",
    "                                   ingredient_name=\"Gorgonzola\")\n",
    "new_ingredient"
   ]
  },
  {
   "cell_type": "markdown",
   "id": "5221db8d",
   "metadata": {},
   "source": [
    "We can change the name of an ingredient, or its recipes"
   ]
  },
  {
   "cell_type": "code",
   "execution_count": 25,
   "id": "62d3d43d",
   "metadata": {},
   "outputs": [],
   "source": [
    "def modify_ingredient(ingredient_id, new_name, recipes):\n",
    "    url = BASE_URL + f\"api/ingredients/{ingredient_id}/\"\n",
    "    data = {\"name\": new_name, 'recipes': recipes}\n",
    "    response = requests.put(url, data=data)\n",
    "    return response.json()\n",
    "\n",
    "modified_ingredient = modify_ingredient(ingredient_id=gorgonzola['id'], \n",
    "                                        new_name=\"Formaggio Gorgonzola\",\n",
    "                                       recipes=recipe_ids['Quattro Formaggi'])\n"
   ]
  },
  {
   "cell_type": "code",
   "execution_count": 26,
   "id": "3e3ed36f",
   "metadata": {},
   "outputs": [
    {
     "data": {
      "text/plain": [
       "{'id': '59acd7a0-9726-45d4-81c6-f0a2b5c0493b',\n",
       " 'name': 'Formaggio Gorgonzola',\n",
       " 'recipes': ['deb5f0fa-fbdd-415a-9af0-bdd4eba37bc0']}"
      ]
     },
     "execution_count": 26,
     "metadata": {},
     "output_type": "execute_result"
    }
   ],
   "source": [
    "modified_ingredient"
   ]
  },
  {
   "cell_type": "markdown",
   "id": "e16e50dc",
   "metadata": {},
   "source": [
    "Ingredients can be deleted as well"
   ]
  },
  {
   "cell_type": "code",
   "execution_count": 27,
   "id": "5db9b1e8",
   "metadata": {},
   "outputs": [
    {
     "data": {
      "text/plain": [
       "204"
      ]
     },
     "execution_count": 27,
     "metadata": {},
     "output_type": "execute_result"
    }
   ],
   "source": [
    "def delete_ingredient(ingredient_id):\n",
    "    url = BASE_URL + f\"api/ingredients/{ingredient_id}/\"\n",
    "    response = requests.delete(url)\n",
    "    return response.status_code\n",
    "\n",
    "delete_ingredient(ingredient_id=gorgonzola_id)\n"
   ]
  },
  {
   "cell_type": "markdown",
   "id": "464d0232",
   "metadata": {},
   "source": [
    "Before going further, let's add some ingredients to our recipes and create the dictionary"
   ]
  },
  {
   "cell_type": "code",
   "execution_count": 28,
   "id": "9c5de02f",
   "metadata": {},
   "outputs": [
    {
     "data": {
      "text/plain": [
       "{'Pomodoro': 'd5b16057-f82d-48b5-ad1a-e848c138ca76',\n",
       " 'Guanciale': '8d6aabda-b69c-4187-b6c3-6fdd340f6e95',\n",
       " 'Pancetta': '4634145f-36e8-4918-b116-0880f31da0bc',\n",
       " 'Mozzarella': '18a5dcc5-50ee-43f9-bc34-d763e6a5ef6a'}"
      ]
     },
     "execution_count": 28,
     "metadata": {},
     "output_type": "execute_result"
    }
   ],
   "source": [
    "create_ingredient(recipe_ids['Amatriciana'], \n",
    "                                   ingredient_name=\"Guanciale\")\n",
    "create_ingredient(recipe_ids['Amatriciana'], \n",
    "                                   ingredient_name=\"Pancetta\")\n",
    "create_ingredient(recipe_ids['Pizza Margherita'], \n",
    "                                   ingredient_name=\"Mozzarella\")\n",
    "\n",
    "ingredients = requests.get(BASE_URL + 'ingredients/')\n",
    "ingredient_ids = {e['name']: e['id'] for e in ingredients.json()}\n",
    "ingredient_ids"
   ]
  },
  {
   "cell_type": "markdown",
   "id": "5fb0388f",
   "metadata": {},
   "source": [
    "# Exploring the DB"
   ]
  },
  {
   "cell_type": "markdown",
   "id": "018a8392",
   "metadata": {},
   "source": [
    "We want to find the restaurants serving a given recipe. Given the nature of the request, we assume multiple recipes with the same name, served by different restaurants. We already know that Tomato serves Pizza Margherita, so we create another (independent) \"Pizza Margherita\" served by Pizza Pazza."
   ]
  },
  {
   "cell_type": "code",
   "execution_count": 29,
   "id": "2acae597",
   "metadata": {},
   "outputs": [
    {
     "data": {
      "text/plain": [
       "{'id': 'ecc45894-dc91-4fe3-9da0-e6bee27dad85',\n",
       " 'name': 'Pizza Margherita',\n",
       " 'restaurant': '705046ab-df7c-4845-8017-24953bf51c68'}"
      ]
     },
     "execution_count": 29,
     "metadata": {},
     "output_type": "execute_result"
    }
   ],
   "source": [
    "create_recipe(restaurant_ids['PizzaPazza'], \"Pizza Margherita\")"
   ]
  },
  {
   "cell_type": "code",
   "execution_count": 30,
   "id": "bceb64f3",
   "metadata": {},
   "outputs": [
    {
     "data": {
      "text/plain": [
       "[{'id': 'ef98a8a6-6a13-47bf-8c10-f04298873250', 'name': 'Tomato'},\n",
       " {'id': '705046ab-df7c-4845-8017-24953bf51c68', 'name': 'PizzaPazza'}]"
      ]
     },
     "execution_count": 30,
     "metadata": {},
     "output_type": "execute_result"
    }
   ],
   "source": [
    "recipe_name = \"Pizza Margherita\"  # Replace with the actual name of the recipe\n",
    "\n",
    "response = requests.get(BASE_URL + f'restaurants/by_recipe/{recipe_name}/')\n",
    "restaurants = response.json()\n",
    "restaurants"
   ]
  },
  {
   "cell_type": "markdown",
   "id": "50216e2e",
   "metadata": {},
   "source": [
    "The opposite. We want to find the recipes served by a specific restaurant. In this case, the restaurant ID will do."
   ]
  },
  {
   "cell_type": "code",
   "execution_count": 31,
   "id": "ad7b0830",
   "metadata": {},
   "outputs": [
    {
     "data": {
      "text/plain": [
       "[{'id': '184866b8-2eb8-421b-9b09-1233f8a4c0f9',\n",
       "  'name': 'Pizza Margherita',\n",
       "  'restaurant': 'ef98a8a6-6a13-47bf-8c10-f04298873250'},\n",
       " {'id': 'd8436372-88e0-4dd9-aca0-40b30fa46e0e',\n",
       "  'name': 'Amatriciana',\n",
       "  'restaurant': 'ef98a8a6-6a13-47bf-8c10-f04298873250'}]"
      ]
     },
     "execution_count": 31,
     "metadata": {},
     "output_type": "execute_result"
    }
   ],
   "source": [
    "restaurant_id = restaurant_ids['Tomato']\n",
    "\n",
    "response = requests.get(BASE_URL + f'/restaurants/{restaurant_id}/recipes/')\n",
    "\n",
    "recipes = response.json()\n",
    "recipes"
   ]
  },
  {
   "cell_type": "markdown",
   "id": "7d93607f",
   "metadata": {},
   "source": [
    "Given an ingredient, we want to find the recipes"
   ]
  },
  {
   "cell_type": "code",
   "execution_count": 32,
   "id": "95a7845e",
   "metadata": {
    "scrolled": true
   },
   "outputs": [
    {
     "data": {
      "text/plain": [
       "[{'id': 'd8436372-88e0-4dd9-aca0-40b30fa46e0e',\n",
       "  'name': 'Amatriciana',\n",
       "  'restaurant': 'ef98a8a6-6a13-47bf-8c10-f04298873250'},\n",
       " {'id': '184866b8-2eb8-421b-9b09-1233f8a4c0f9',\n",
       "  'name': 'Pizza Margherita',\n",
       "  'restaurant': 'ef98a8a6-6a13-47bf-8c10-f04298873250'},\n",
       " {'id': '36e8100a-b77c-47ec-9f71-c0601abeaceb',\n",
       "  'name': 'Pizza Marinara',\n",
       "  'restaurant': '705046ab-df7c-4845-8017-24953bf51c68'}]"
      ]
     },
     "execution_count": 32,
     "metadata": {},
     "output_type": "execute_result"
    }
   ],
   "source": [
    "ingredient_id = ingredient_ids['Pomodoro']\n",
    "response = requests.get(BASE_URL + f'/ingredients/{ingredient_id}/recipes/')\n",
    "\n",
    "# Print the list of recipes\n",
    "recipes = response.json()\n",
    "recipes"
   ]
  },
  {
   "cell_type": "markdown",
   "id": "d78aad9a",
   "metadata": {},
   "source": [
    "The opposite. Given a recipe, the employed ingredients"
   ]
  },
  {
   "cell_type": "code",
   "execution_count": 33,
   "id": "44182679",
   "metadata": {},
   "outputs": [
    {
     "data": {
      "text/plain": [
       "[{'id': 'd5b16057-f82d-48b5-ad1a-e848c138ca76',\n",
       "  'name': 'Pomodoro',\n",
       "  'recipes': ['d8436372-88e0-4dd9-aca0-40b30fa46e0e',\n",
       "   '184866b8-2eb8-421b-9b09-1233f8a4c0f9',\n",
       "   '36e8100a-b77c-47ec-9f71-c0601abeaceb']},\n",
       " {'id': '8d6aabda-b69c-4187-b6c3-6fdd340f6e95',\n",
       "  'name': 'Guanciale',\n",
       "  'recipes': ['d8436372-88e0-4dd9-aca0-40b30fa46e0e']},\n",
       " {'id': '4634145f-36e8-4918-b116-0880f31da0bc',\n",
       "  'name': 'Pancetta',\n",
       "  'recipes': ['d8436372-88e0-4dd9-aca0-40b30fa46e0e']}]"
      ]
     },
     "execution_count": 33,
     "metadata": {},
     "output_type": "execute_result"
    }
   ],
   "source": [
    "recipe_id = recipe_ids['Amatriciana']\n",
    "\n",
    "response = requests.get(BASE_URL + f\"recipes/{recipe_id}/ingredients/\")\n",
    "response.json()\n"
   ]
  },
  {
   "cell_type": "markdown",
   "id": "4cb3f9fa",
   "metadata": {},
   "source": [
    "Given a restaurant, the employed ingredients"
   ]
  },
  {
   "cell_type": "code",
   "execution_count": 34,
   "id": "813f114b",
   "metadata": {},
   "outputs": [
    {
     "data": {
      "text/plain": [
       "[{'id': '18a5dcc5-50ee-43f9-bc34-d763e6a5ef6a',\n",
       "  'name': 'Mozzarella',\n",
       "  'recipes': ['184866b8-2eb8-421b-9b09-1233f8a4c0f9']},\n",
       " {'id': '4634145f-36e8-4918-b116-0880f31da0bc',\n",
       "  'name': 'Pancetta',\n",
       "  'recipes': ['d8436372-88e0-4dd9-aca0-40b30fa46e0e']},\n",
       " {'id': '8d6aabda-b69c-4187-b6c3-6fdd340f6e95',\n",
       "  'name': 'Guanciale',\n",
       "  'recipes': ['d8436372-88e0-4dd9-aca0-40b30fa46e0e']},\n",
       " {'id': 'd5b16057-f82d-48b5-ad1a-e848c138ca76',\n",
       "  'name': 'Pomodoro',\n",
       "  'recipes': ['d8436372-88e0-4dd9-aca0-40b30fa46e0e',\n",
       "   '184866b8-2eb8-421b-9b09-1233f8a4c0f9',\n",
       "   '36e8100a-b77c-47ec-9f71-c0601abeaceb']}]"
      ]
     },
     "execution_count": 34,
     "metadata": {},
     "output_type": "execute_result"
    }
   ],
   "source": [
    "restaurant_id = restaurant_ids['Tomato']\n",
    "\n",
    "response = requests.get(BASE_URL + f'/restaurants/{restaurant_id}/ingredients/')\n",
    "response.json()\n"
   ]
  },
  {
   "cell_type": "code",
   "execution_count": null,
   "id": "073b6ae6",
   "metadata": {},
   "outputs": [],
   "source": []
  },
  {
   "cell_type": "code",
   "execution_count": null,
   "id": "edc292ae",
   "metadata": {},
   "outputs": [],
   "source": []
  },
  {
   "cell_type": "code",
   "execution_count": null,
   "id": "cc912e86",
   "metadata": {},
   "outputs": [],
   "source": []
  },
  {
   "cell_type": "code",
   "execution_count": null,
   "id": "b7c49ab2",
   "metadata": {},
   "outputs": [],
   "source": []
  },
  {
   "cell_type": "code",
   "execution_count": null,
   "id": "c26d8c18",
   "metadata": {},
   "outputs": [],
   "source": []
  }
 ],
 "metadata": {
  "kernelspec": {
   "display_name": "Python 3 (ipykernel)",
   "language": "python",
   "name": "python3"
  },
  "language_info": {
   "codemirror_mode": {
    "name": "ipython",
    "version": 3
   },
   "file_extension": ".py",
   "mimetype": "text/x-python",
   "name": "python",
   "nbconvert_exporter": "python",
   "pygments_lexer": "ipython3",
   "version": "3.9.18"
  }
 },
 "nbformat": 4,
 "nbformat_minor": 5
}
